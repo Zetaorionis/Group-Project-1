{
 "cells": [
  {
   "cell_type": "code",
   "execution_count": null,
   "id": "eab4d75e-39a0-49ae-9344-e646814a7839",
   "metadata": {},
   "outputs": [],
   "source": [
    "import matplotlib.pyplot as plt\n",
    "\n",
    "# Your plotting code here\n",
    "\n",
    "fig, ax = plt.subplots(figsize=(12, 8))\n",
    "\n",
    "# Your box plot code here\n",
    "\n",
    "plt.xticks(rotation=45, ha=\"right\", fontsize=12)\n",
    "plt.grid(axis='y', linestyle='--', alpha=0.7)\n",
    "\n",
    "plt.title('Salary Distribution Across Job Categories', fontsize=16)\n",
    "plt.xlabel('Job Categories', fontsize=14)\n",
    "plt.ylabel('Salary in USD', fontsize=14)\n",
    "\n",
    "# Save the figure with options\n",
    "plt.savefig('boxplot_salaries.png', bbox_inches='tight', dpi=300, transparent=True)\n",
    "\n",
    "plt.show()\n"
   ]
  }
 ],
 "metadata": {
  "kernelspec": {
   "display_name": "Python 3 (ipykernel)",
   "language": "python",
   "name": "python3"
  },
  "language_info": {
   "codemirror_mode": {
    "name": "ipython",
    "version": 3
   },
   "file_extension": ".py",
   "mimetype": "text/x-python",
   "name": "python",
   "nbconvert_exporter": "python",
   "pygments_lexer": "ipython3",
   "version": "3.11.5"
  }
 },
 "nbformat": 4,
 "nbformat_minor": 5
}
